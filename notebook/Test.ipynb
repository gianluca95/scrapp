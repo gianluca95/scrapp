{
 "cells": [
  {
   "cell_type": "code",
   "execution_count": 1,
   "id": "8cec268c",
   "metadata": {},
   "outputs": [],
   "source": [
    "import json\n",
    "import pandas as pd"
   ]
  },
  {
   "cell_type": "code",
   "execution_count": 2,
   "id": "8817108d",
   "metadata": {},
   "outputs": [],
   "source": [
    "data = {'https://www.vea.com.ar/Electro/Aire-Acondicionado-y-Ventilacion': {'item': ['Turbo Ventilador 10 5a Liliana Rojo', 'Aire Acondicionado Inverter Samsung 5500 Fc', 'Aire Acondicionado Philco Inverter 3550w', 'Acondicionador De Aire Portatil Philco 3500w', 'Aire Acondicionado Hyundai Inverter Fc5000f'], 'price': [7999, 461389, 275909, 203971.39, 407999]}, 'https://www.vea.com.ar/Electro/Calefaccion-Calefones-y-Termotanques': {}, 'https://www.vea.com.ar/Electro/Cocinas-y-Hornos': {}, 'https://www.vea.com.ar/Electro/Consolas-y-Videojuegos': {}, 'https://www.vea.com.ar/Electro/Heladeras-Freezers-y-Cavas': {}, 'https://www.vea.com.ar/electro/informatica': {}, 'https://www.vea.com.ar/Electro/Lavado': {}, 'https://www.vea.com.ar/Electro/Pequenos-Electros': {}, 'https://www.vea.com.ar/electro/telefonos': {}, 'https://www.vea.com.ar/tiempo-libre/aire-libre': {}}"
   ]
  },
  {
   "cell_type": "code",
   "execution_count": 15,
   "id": "0074493c",
   "metadata": {},
   "outputs": [
    {
     "name": "stdout",
     "output_type": "stream",
     "text": [
      "https://www.vea.com.ar/Electro/Aire-Acondicionado-y-Ventilacion\n",
      "https://www.vea.com.ar/Electro/Calefaccion-Calefones-y-Termotanques\n",
      "https://www.vea.com.ar/Electro/Cocinas-y-Hornos\n",
      "https://www.vea.com.ar/Electro/Consolas-y-Videojuegos\n",
      "https://www.vea.com.ar/Electro/Heladeras-Freezers-y-Cavas\n",
      "https://www.vea.com.ar/electro/informatica\n",
      "https://www.vea.com.ar/Electro/Lavado\n",
      "https://www.vea.com.ar/Electro/Pequenos-Electros\n",
      "https://www.vea.com.ar/electro/telefonos\n",
      "https://www.vea.com.ar/tiempo-libre/aire-libre\n"
     ]
    }
   ],
   "source": [
    "for key, value in data.items():\n",
    "    print(key)"
   ]
  },
  {
   "cell_type": "code",
   "execution_count": 16,
   "id": "b8fb6813",
   "metadata": {},
   "outputs": [],
   "source": [
    "total_categories = ['https://www.vea.com.ar/Electro/Aire-Acondicionado-y-Ventilacion',\n",
    "'https://www.vea.com.ar/Electro/Calefaccion-Calefones-y-Termotanques',\n",
    "'https://www.vea.com.ar/Electro/Cocinas-y-Hornos',\n",
    "'https://www.vea.com.ar/Electro/Consolas-y-Videojuegos',\n",
    "'https://www.vea.com.ar/Electro/Heladeras-Freezers-y-Cavas',\n",
    "'https://www.vea.com.ar/electro/informatica',\n",
    "'https://www.vea.com.ar/Electro/Lavado',\n",
    "'https://www.vea.com.ar/Electro/Pequenos-Electros',\n",
    "'https://www.vea.com.ar/electro/telefonos',\n",
    "'https://www.vea.com.ar/tiempo-libre/aire-libre']\n",
    "\n",
    "\n",
    "scrap_categories = ['https://www.vea.com.ar/Electro/Aire-Acondicionado-y-Ventilacion',\n",
    "'https://www.vea.com.ar/Electro/Calefaccion-Calefones-y-Termotanques',\n",
    "'https://www.vea.com.ar/Electro/Cocinas-y-Hornos']"
   ]
  },
  {
   "cell_type": "code",
   "execution_count": 17,
   "id": "9ff89dcb",
   "metadata": {},
   "outputs": [],
   "source": [
    "not_scrapped = [cat for cat in total_categories if cat not in scrap_categories]"
   ]
  },
  {
   "cell_type": "code",
   "execution_count": 20,
   "id": "21469d77",
   "metadata": {},
   "outputs": [
    {
     "data": {
      "text/plain": [
       "7"
      ]
     },
     "execution_count": 20,
     "metadata": {},
     "output_type": "execute_result"
    }
   ],
   "source": [
    "len(not_scrapped)"
   ]
  },
  {
   "cell_type": "code",
   "execution_count": null,
   "id": "2093788c",
   "metadata": {},
   "outputs": [],
   "source": []
  }
 ],
 "metadata": {
  "kernelspec": {
   "display_name": "Python 3 (ipykernel)",
   "language": "python",
   "name": "python3"
  },
  "language_info": {
   "codemirror_mode": {
    "name": "ipython",
    "version": 3
   },
   "file_extension": ".py",
   "mimetype": "text/x-python",
   "name": "python",
   "nbconvert_exporter": "python",
   "pygments_lexer": "ipython3",
   "version": "3.11.1"
  }
 },
 "nbformat": 4,
 "nbformat_minor": 5
}
