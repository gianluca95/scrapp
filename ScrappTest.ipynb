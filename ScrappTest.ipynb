{
 "cells": [
  {
   "cell_type": "markdown",
   "id": "980f0818",
   "metadata": {},
   "source": [
    "# Scrapp"
   ]
  },
  {
   "cell_type": "code",
   "execution_count": 1,
   "id": "2df747cb",
   "metadata": {},
   "outputs": [],
   "source": [
    "import requests\n",
    "import json\n",
    "import pandas as pd\n",
    "from bs4 import BeautifulSoup\n",
    "from selenium import webdriver\n",
    "import time\n",
    "import warnings\n",
    "\n",
    "warnings.filterwarnings('ignore')"
   ]
  },
  {
   "cell_type": "markdown",
   "id": "1473286d",
   "metadata": {},
   "source": [
    "#### Create and setup driver"
   ]
  },
  {
   "cell_type": "code",
   "execution_count": 2,
   "id": "13f60226",
   "metadata": {},
   "outputs": [],
   "source": [
    "options = webdriver.ChromeOptions()\n",
    "options.add_argument(\"--headless=new\")\n",
    "options.add_argument('--blink-settings=imagesEnabled=false')\n",
    "\n",
    "driver = webdriver.Chrome(options=options)"
   ]
  },
  {
   "cell_type": "markdown",
   "id": "c4b47af8",
   "metadata": {},
   "source": [
    "#### List of categories"
   ]
  },
  {
   "cell_type": "code",
   "execution_count": 3,
   "id": "a15ccd95",
   "metadata": {},
   "outputs": [],
   "source": [
    "def get_main_entities(url, driver, time_wait):\n",
    "    driver.get(url)\n",
    "    time.sleep(time_wait)\n",
    "    html_main = BeautifulSoup(driver.page_source, 'html5lib')\n",
    "    json_main = html_main.find_all('template', {'data-field': 'extensions', \n",
    "                                                'data-type': 'json', \n",
    "                                                'data-varname': '__RUNTIME__'})\n",
    "    df_main_entities = pd.json_normalize(json.loads(json_main[0].contents[1].string)['store.home/$after_footer/footer-layout.desktop/footer-oculto']['content']['opciones'])\n",
    "    \n",
    "    return df_main_entities"
   ]
  },
  {
   "cell_type": "code",
   "execution_count": 4,
   "id": "d0a3b317",
   "metadata": {},
   "outputs": [],
   "source": [
    "def get_entity_marcas(df_main_entities):\n",
    "    df_marcas = df_main_entities[df_main_entities['correspondeA']=='MARCAS'].reset_index(drop=True)\n",
    "    df_marcas.columns = ['corresponde_a', 'texto_marcas', 'url_marcas']\n",
    "    return df_marcas\n",
    "\n",
    "def get_entity_productos(df_main_entities):\n",
    "    df_productos = df_main_entities[df_main_entities['correspondeA']=='PRODUCTOS'].reset_index(drop=True)\n",
    "    df_productos.columns = ['corresponde_a', 'texto_productos', 'url_productos']\n",
    "    return df_productos\n",
    "\n",
    "def get_entity_departamentos(df_main_entities):\n",
    "    df_departamentos = df_main_entities[df_main_entities['correspondeA']=='DEPARTAMENTO'].reset_index(drop=True)\n",
    "    df_departamentos.columns = ['corresponde_a', 'texto_departamento', 'url_departamento']\n",
    "    df_departamentos['url_texto_departamento'] = df_departamentos['url_departamento'].str.split('/', expand=True)[3].str.lower()\n",
    "    return df_departamentos\n",
    "\n",
    "def get_entity_categorias(df_main_entities):\n",
    "    df_categorias = df_main_entities[df_main_entities['correspondeA']=='CATEGORIA'].reset_index(drop=True)\n",
    "    df_categorias.columns = ['corresponde_a', 'texto_categorias', 'url_categorias']\n",
    "    df_categorias['url_texto_departamento'] = df_categorias['url_categorias'].str.split('/', expand=True)[3].str.lower()\n",
    "    df_categorias['url_texto_categorias'] = df_categorias['url_categorias'].str.split('/', expand=True)[4].str.lower()\n",
    "    return df_categorias\n",
    "\n",
    "def get_entity_subcategorias(df_main_entities):\n",
    "    df_subcategorias = df_main_entities[df_main_entities['correspondeA']=='SUBCATEGORIA'].reset_index(drop=True)\n",
    "    df_subcategorias.columns = ['corresponde_a', 'texto_subcategorias', 'url_subcategorias']\n",
    "    df_subcategorias['url_texto_departamento'] = df_subcategorias['url_subcategorias'].str.split('/', expand=True)[3].str.lower()\n",
    "    df_subcategorias['url_texto_categorias'] = df_subcategorias['url_subcategorias'].str.split('/', expand=True)[4].str.lower()\n",
    "    df_subcategorias['url_texto_subcategorias'] = df_subcategorias['url_subcategorias'].str.split('/', expand=True)[5].str.lower()\n",
    "    return df_subcategorias"
   ]
  },
  {
   "cell_type": "code",
   "execution_count": 5,
   "id": "f52071fd",
   "metadata": {},
   "outputs": [
    {
     "name": "stdout",
     "output_type": "stream",
     "text": [
      "CPU times: total: 422 ms\n",
      "Wall time: 13.8 s\n"
     ]
    }
   ],
   "source": [
    "%%time\n",
    "url_main = 'https://www.vea.com.ar/'\n",
    "time_wait = 10\n",
    "\n",
    "df_main_entities = get_main_entities(url=url_main, driver=driver, time_wait=time_wait)\n",
    "\n",
    "df_marcas = get_entity_marcas(df_main_entities)\n",
    "df_productos = get_entity_productos(df_main_entities)\n",
    "df_departamentos = get_entity_departamentos(df_main_entities)\n",
    "df_categorias = get_entity_categorias(df_main_entities)\n",
    "df_subcategorias = get_entity_categorias(df_main_entities)\n",
    "\n",
    "del df_main_entities"
   ]
  },
  {
   "cell_type": "code",
   "execution_count": 6,
   "id": "6246b996",
   "metadata": {},
   "outputs": [
    {
     "data": {
      "text/html": [
       "<div>\n",
       "<style scoped>\n",
       "    .dataframe tbody tr th:only-of-type {\n",
       "        vertical-align: middle;\n",
       "    }\n",
       "\n",
       "    .dataframe tbody tr th {\n",
       "        vertical-align: top;\n",
       "    }\n",
       "\n",
       "    .dataframe thead th {\n",
       "        text-align: right;\n",
       "    }\n",
       "</style>\n",
       "<table border=\"1\" class=\"dataframe\">\n",
       "  <thead>\n",
       "    <tr style=\"text-align: right;\">\n",
       "      <th></th>\n",
       "      <th>corresponde_a</th>\n",
       "      <th>texto_categorias</th>\n",
       "      <th>url_categorias</th>\n",
       "      <th>url_texto_departamento</th>\n",
       "      <th>url_texto_categorias</th>\n",
       "    </tr>\n",
       "  </thead>\n",
       "  <tbody>\n",
       "    <tr>\n",
       "      <th>0</th>\n",
       "      <td>CATEGORIA</td>\n",
       "      <td>Aire Acondicionado y Ventilación</td>\n",
       "      <td>https://www.vea.com.ar/Electro/Aire-Acondicion...</td>\n",
       "      <td>electro</td>\n",
       "      <td>aire-acondicionado-y-ventilacion</td>\n",
       "    </tr>\n",
       "    <tr>\n",
       "      <th>1</th>\n",
       "      <td>CATEGORIA</td>\n",
       "      <td>Calefacción, Calefones y Termotanques</td>\n",
       "      <td>https://www.vea.com.ar/Electro/Calefaccion-Cal...</td>\n",
       "      <td>electro</td>\n",
       "      <td>calefaccion-calefones-y-termotanques</td>\n",
       "    </tr>\n",
       "    <tr>\n",
       "      <th>2</th>\n",
       "      <td>CATEGORIA</td>\n",
       "      <td>Cocinas y Hornos</td>\n",
       "      <td>https://www.vea.com.ar/Electro/Cocinas-y-Hornos</td>\n",
       "      <td>electro</td>\n",
       "      <td>cocinas-y-hornos</td>\n",
       "    </tr>\n",
       "    <tr>\n",
       "      <th>3</th>\n",
       "      <td>CATEGORIA</td>\n",
       "      <td>Consolas y Videojuegos</td>\n",
       "      <td>https://www.vea.com.ar/Electro/Consolas-y-Vide...</td>\n",
       "      <td>electro</td>\n",
       "      <td>consolas-y-videojuegos</td>\n",
       "    </tr>\n",
       "    <tr>\n",
       "      <th>4</th>\n",
       "      <td>CATEGORIA</td>\n",
       "      <td>Heladeras, Freezers y Cavas</td>\n",
       "      <td>https://www.vea.com.ar/Electro/Heladeras-Freez...</td>\n",
       "      <td>electro</td>\n",
       "      <td>heladeras-freezers-y-cavas</td>\n",
       "    </tr>\n",
       "  </tbody>\n",
       "</table>\n",
       "</div>"
      ],
      "text/plain": [
       "  corresponde_a                       texto_categorias  \\\n",
       "0     CATEGORIA       Aire Acondicionado y Ventilación   \n",
       "1     CATEGORIA  Calefacción, Calefones y Termotanques   \n",
       "2     CATEGORIA                       Cocinas y Hornos   \n",
       "3     CATEGORIA                 Consolas y Videojuegos   \n",
       "4     CATEGORIA            Heladeras, Freezers y Cavas   \n",
       "\n",
       "                                      url_categorias url_texto_departamento  \\\n",
       "0  https://www.vea.com.ar/Electro/Aire-Acondicion...                electro   \n",
       "1  https://www.vea.com.ar/Electro/Calefaccion-Cal...                electro   \n",
       "2    https://www.vea.com.ar/Electro/Cocinas-y-Hornos                electro   \n",
       "3  https://www.vea.com.ar/Electro/Consolas-y-Vide...                electro   \n",
       "4  https://www.vea.com.ar/Electro/Heladeras-Freez...                electro   \n",
       "\n",
       "                   url_texto_categorias  \n",
       "0      aire-acondicionado-y-ventilacion  \n",
       "1  calefaccion-calefones-y-termotanques  \n",
       "2                      cocinas-y-hornos  \n",
       "3                consolas-y-videojuegos  \n",
       "4            heladeras-freezers-y-cavas  "
      ]
     },
     "execution_count": 6,
     "metadata": {},
     "output_type": "execute_result"
    }
   ],
   "source": [
    "df_categorias.head()"
   ]
  },
  {
   "cell_type": "markdown",
   "id": "5d4c3a50",
   "metadata": {},
   "source": [
    "#### Get products and prices"
   ]
  },
  {
   "cell_type": "code",
   "execution_count": 7,
   "id": "a9599631",
   "metadata": {},
   "outputs": [
    {
     "data": {
      "text/plain": [
       "10"
      ]
     },
     "execution_count": 7,
     "metadata": {},
     "output_type": "execute_result"
    }
   ],
   "source": [
    "categories = df_categorias['url_categorias'].str.split('.ar/', expand=True)[1].tolist()[:10]\n",
    "len(categories)"
   ]
  },
  {
   "cell_type": "code",
   "execution_count": 8,
   "id": "4b6b1888",
   "metadata": {
    "scrolled": true
   },
   "outputs": [
    {
     "name": "stdout",
     "output_type": "stream",
     "text": [
      "[1/10] Electro/Aire-Acondicionado-y-Ventilacion (loaded products=6, total=6)\n",
      "[2/10] Electro/Calefaccion-Calefones-y-Termotanques (loaded products=32, total=32)\n",
      "[3/10] Electro/Cocinas-y-Hornos (loaded products=46, total=46)\n",
      "[4/10] Electro/Consolas-y-Videojuegos (loaded products=7, total=7)\n",
      "[5/10] Electro/Heladeras-Freezers-y-Cavas (loaded products=44, total=44)\n",
      "[6/10] electro/informatica (loaded products=62, total=62)\n",
      "[7/10] Electro/Lavado (loaded products=35, total=35)\n",
      "[8/10] Electro/Pequenos-Electros (loaded products=178, total=178)\n",
      "[9/10] electro/telefonos (loaded products=41, total=41)\n",
      "[10/10] tiempo-libre/aire-libre (loaded products=49, total=49)\n",
      "CPU times: total: 562 ms\n",
      "Wall time: 1min 54s\n"
     ]
    }
   ],
   "source": [
    "%%time\n",
    "from selenium.common.exceptions import ElementClickInterceptedException, StaleElementReferenceException\n",
    "from selenium.webdriver.common.by import By\n",
    "from selenium.webdriver.support.wait import WebDriverWait\n",
    "from selenium.webdriver.support import expected_conditions as EC\n",
    "\n",
    "data = {key:{} for key in categories}\n",
    "\n",
    "for idx,category in enumerate(categories):\n",
    "    info = f'[{idx+1}/{len(categories)}] {category} '\n",
    "    print(info, end='')\n",
    "    driver.get('https://www.vea.com.ar/' + category)\n",
    "    \n",
    "    number_of_products = 0\n",
    "    while number_of_products == 0:\n",
    "        footer = WebDriverWait(driver,20).until(EC.visibility_of_element_located((By.CSS_SELECTOR, 'p.text-content')))\n",
    "        number_of_products = int(footer.text.split()[3])\n",
    "        number_of_loaded_products = int(footer.text.split()[1])\n",
    "    print(f'(loaded products={number_of_loaded_products}, total={number_of_products})', end='\\r')\n",
    "    \n",
    "    while number_of_loaded_products < number_of_products:\n",
    "        footer = driver.find_element(By.CSS_SELECTOR, 'p.text-content')\n",
    "        driver.execute_script('arguments[0].scrollIntoView({block: \"center\"});', footer)\n",
    "        show_more = driver.find_elements(By.XPATH, \"//div[text()='Mostrar más']\")\n",
    "        if show_more:\n",
    "            try:\n",
    "                show_more[0].click()\n",
    "            except (ElementClickInterceptedException, StaleElementReferenceException):\n",
    "                continue\n",
    "        number_of_loaded_products = int(footer.text.split()[1])\n",
    "        print(info + f'(loaded products={number_of_loaded_products}, total={number_of_products})', end='\\r')\n",
    "        time.sleep(1)\n",
    "\n",
    "    loaded_products = json.loads(driver.find_element(By.CSS_SELECTOR, \"body script[type='application/ld+json']\").get_attribute('innerText'))['itemListElement']\n",
    "    products = {'item':[],'price':[]}\n",
    "    for prod in loaded_products:\n",
    "        products['item']  += [prod['item']['name']]\n",
    "        products['price'] += [prod['item']['offers']['offers'][0]['price']]\n",
    "\n",
    "    data[category] = products\n",
    "    print()"
   ]
  },
  {
   "cell_type": "code",
   "execution_count": 9,
   "id": "25c44ff8",
   "metadata": {},
   "outputs": [
    {
     "name": "stdout",
     "output_type": "stream",
     "text": [
      "CPU times: total: 0 ns\n",
      "Wall time: 0 ns\n"
     ]
    }
   ],
   "source": [
    "%%time\n",
    "data_list = []\n",
    "for key, value in data.items():\n",
    "    for i in range(len(value['item'])):\n",
    "        record_dict = {\n",
    "            'category': key,\n",
    "            'item': value['item'][i],\n",
    "            'price': value['price'][i]\n",
    "        }\n",
    "        data_list.append(record_dict)\n",
    "\n",
    "df = pd.DataFrame(data_list)"
   ]
  },
  {
   "cell_type": "code",
   "execution_count": 10,
   "id": "6194ab8b",
   "metadata": {
    "scrolled": false
   },
   "outputs": [
    {
     "data": {
      "text/plain": [
       "(500, 3)"
      ]
     },
     "execution_count": 10,
     "metadata": {},
     "output_type": "execute_result"
    }
   ],
   "source": [
    "df.shape"
   ]
  },
  {
   "cell_type": "code",
   "execution_count": 11,
   "id": "5e2d768d",
   "metadata": {},
   "outputs": [
    {
     "data": {
      "text/html": [
       "<div>\n",
       "<style scoped>\n",
       "    .dataframe tbody tr th:only-of-type {\n",
       "        vertical-align: middle;\n",
       "    }\n",
       "\n",
       "    .dataframe tbody tr th {\n",
       "        vertical-align: top;\n",
       "    }\n",
       "\n",
       "    .dataframe thead th {\n",
       "        text-align: right;\n",
       "    }\n",
       "</style>\n",
       "<table border=\"1\" class=\"dataframe\">\n",
       "  <thead>\n",
       "    <tr style=\"text-align: right;\">\n",
       "      <th></th>\n",
       "      <th>category</th>\n",
       "      <th>item</th>\n",
       "      <th>price</th>\n",
       "    </tr>\n",
       "  </thead>\n",
       "  <tbody>\n",
       "    <tr>\n",
       "      <th>0</th>\n",
       "      <td>Electro/Aire-Acondicionado-y-Ventilacion</td>\n",
       "      <td>Aire Acondicionado Nex Inverter Frio Calor 5000</td>\n",
       "      <td>269000.0</td>\n",
       "    </tr>\n",
       "    <tr>\n",
       "      <th>1</th>\n",
       "      <td>Electro/Aire-Acondicionado-y-Ventilacion</td>\n",
       "      <td>Turbo Ventilador 10 5a Liliana Rojo</td>\n",
       "      <td>7999.0</td>\n",
       "    </tr>\n",
       "    <tr>\n",
       "      <th>2</th>\n",
       "      <td>Electro/Aire-Acondicionado-y-Ventilacion</td>\n",
       "      <td>Aire Acondicionado Inverter Samsung 5500 Fc</td>\n",
       "      <td>461389.0</td>\n",
       "    </tr>\n",
       "    <tr>\n",
       "      <th>3</th>\n",
       "      <td>Electro/Aire-Acondicionado-y-Ventilacion</td>\n",
       "      <td>Aire Acondicionado Philco Inverter 3550w</td>\n",
       "      <td>274999.0</td>\n",
       "    </tr>\n",
       "    <tr>\n",
       "      <th>4</th>\n",
       "      <td>Electro/Aire-Acondicionado-y-Ventilacion</td>\n",
       "      <td>Ventilador De Mesa Retro Protalia 12&amp;apos; Negro</td>\n",
       "      <td>17999.0</td>\n",
       "    </tr>\n",
       "  </tbody>\n",
       "</table>\n",
       "</div>"
      ],
      "text/plain": [
       "                                   category  \\\n",
       "0  Electro/Aire-Acondicionado-y-Ventilacion   \n",
       "1  Electro/Aire-Acondicionado-y-Ventilacion   \n",
       "2  Electro/Aire-Acondicionado-y-Ventilacion   \n",
       "3  Electro/Aire-Acondicionado-y-Ventilacion   \n",
       "4  Electro/Aire-Acondicionado-y-Ventilacion   \n",
       "\n",
       "                                               item     price  \n",
       "0   Aire Acondicionado Nex Inverter Frio Calor 5000  269000.0  \n",
       "1               Turbo Ventilador 10 5a Liliana Rojo    7999.0  \n",
       "2       Aire Acondicionado Inverter Samsung 5500 Fc  461389.0  \n",
       "3          Aire Acondicionado Philco Inverter 3550w  274999.0  \n",
       "4  Ventilador De Mesa Retro Protalia 12&apos; Negro   17999.0  "
      ]
     },
     "execution_count": 11,
     "metadata": {},
     "output_type": "execute_result"
    }
   ],
   "source": [
    "df.head()"
   ]
  },
  {
   "cell_type": "code",
   "execution_count": null,
   "id": "772f0f16",
   "metadata": {},
   "outputs": [],
   "source": []
  },
  {
   "cell_type": "code",
   "execution_count": null,
   "id": "5a9f0e28",
   "metadata": {},
   "outputs": [],
   "source": []
  }
 ],
 "metadata": {
  "kernelspec": {
   "display_name": "Python 3 (ipykernel)",
   "language": "python",
   "name": "python3"
  },
  "language_info": {
   "codemirror_mode": {
    "name": "ipython",
    "version": 3
   },
   "file_extension": ".py",
   "mimetype": "text/x-python",
   "name": "python",
   "nbconvert_exporter": "python",
   "pygments_lexer": "ipython3",
   "version": "3.11.1"
  }
 },
 "nbformat": 4,
 "nbformat_minor": 5
}
